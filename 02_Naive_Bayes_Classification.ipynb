{
  "nbformat": 4,
  "nbformat_minor": 0,
  "metadata": {
    "colab": {
      "provenance": []
    },
    "kernelspec": {
      "name": "python3",
      "display_name": "Python 3"
    },
    "language_info": {
      "name": "python"
    }
  },
  "cells": [
    {
      "cell_type": "markdown",
      "source": [
        "#Naive Bayes Classification\n",
        "\n",
        "1. **Setup and Data Loading**\n",
        "\n",
        "**Imports**:\n",
        "\n",
        "- pandas, numpy for data handling.\n",
        "\n",
        "- StandardScaler for feature standardization.\n",
        "\n",
        "- GaussianNB for the Naive Bayes classifier.\n",
        "\n",
        "- classification_report for model evaluation.\n",
        "\n",
        "**Data Loading**:\n",
        "\n",
        "- The dataset (magic04.data) is loaded with features describing particle collisions.\n",
        "\n",
        "- The class column is converted to binary (1 = Gamma, 0 = Hadron)."
      ],
      "metadata": {
        "id": "46I26XFA0_mt"
      }
    },
    {
      "cell_type": "code",
      "execution_count": null,
      "metadata": {
        "id": "iIkdzE070VUu"
      },
      "outputs": [],
      "source": [
        "# Setup and Data Loading\n",
        "import pandas as pd\n",
        "import numpy as np\n",
        "import matplotlib.pyplot as plt\n",
        "from sklearn.preprocessing import StandardScaler\n",
        "from sklearn.neighbors import KNeighborsClassifier\n",
        "from sklearn.metrics import classification_report\n",
        "from sklearn.naive_bayes import GaussianNB"
      ]
    },
    {
      "cell_type": "code",
      "source": [
        "# Load data\n",
        "cols = [\"fLength\", \"fWidth\", \"fSize\", \"fConc\", \"fConcl\", \"fAsym\",\n",
        "        \"fM3Long\", \"fM3Trans\", \"fAlpha\", \"fDist\", \"class\"]\n",
        "df = pd.read_csv(\"magic04.data\", names=cols)\n",
        "df[\"class\"] = (df[\"class\"] == \"g\").astype(int)  # Binary: 1=Gamma, 0=Hadron"
      ],
      "metadata": {
        "id": "3ztbsvCJ1WZS"
      },
      "execution_count": null,
      "outputs": []
    },
    {
      "cell_type": "markdown",
      "source": [
        "2. **Data Preparation**\n",
        "\n",
        "**prepare_data() Function**:\n",
        "\n",
        "- Extracts features (X) and labels (y).\n",
        "\n",
        "- Standardizes features (StandardScaler) to ensure Gaussian Naive Bayes works optimally.\n",
        "\n",
        "- Oversampling (if enabled): Uses RandomOverSampler to balance class distribution (since Naive Bayes can be biased toward majority classes).\n",
        "\n",
        "**Train-Validation-Test Split**:\n",
        "\n",
        "- Data is shuffled and split into 60% training, 20% validation, and 20% test sets.\n",
        "\n",
        "- The training set is oversampled to handle class imbalance."
      ],
      "metadata": {
        "id": "2MPrXNjGOHtk"
      }
    },
    {
      "cell_type": "code",
      "source": [
        "# Data Preparation\n",
        "def prepare_data(df, oversample=False):\n",
        "    X = df[cols[:-1]].values\n",
        "    y = df[cols[-1]].values\n",
        "    X = StandardScaler().fit_transform(X)  # Standardize features\n",
        "    if oversample:\n",
        "        from imblearn.over_sampling import RandomOverSampler\n",
        "        X, y = RandomOverSampler().fit_resample(X, y)\n",
        "    return X, y"
      ],
      "metadata": {
        "id": "gXJeqh_B13a4"
      },
      "execution_count": null,
      "outputs": []
    },
    {
      "cell_type": "code",
      "source": [
        "# Split data\n",
        "train, valid, test = np.split(df.sample(frac=1), [int(0.6*len(df)), int(0.8*len(df))])\n",
        "X_train, y_train = prepare_data(train, oversample=True)  # Balance classes\n",
        "X_test, y_test = prepare_data(test)"
      ],
      "metadata": {
        "id": "JkIVUqvG19PB"
      },
      "execution_count": null,
      "outputs": []
    },
    {
      "cell_type": "markdown",
      "source": [
        "3. **Training and Evaluating Naive Bayes**\n",
        "\n",
        "- **Model Initialization**:\n",
        "\n",
        "- - nb = GaussianNB()  # Assumes features follow a Gaussian distribution\n",
        "\n",
        "- **Training**:\n",
        "\n",
        "- - nb.fit(X_train, y_train)  # Learns mean & variance of each feature per class\n",
        "\n",
        "- **Prediction & Evaluation**:\n",
        "\n",
        "- - y_pred = nb.predict(X_test)\n",
        "print(classification_report(y_test, y_pred))\n",
        "\n",
        "The classification_report shows precision, recall, F1-score, and accuracy."
      ],
      "metadata": {
        "id": "7wjXCtxNOr7I"
      }
    },
    {
      "cell_type": "code",
      "source": [
        "# Train and Evaluate Naive Bayes\n",
        "nb = GaussianNB()\n",
        "nb.fit(X_train, y_train)\n",
        "y_pred = nb.predict(X_test)\n",
        "print(classification_report(y_test, y_pred))"
      ],
      "metadata": {
        "id": "1_qVON9G1ZyV"
      },
      "execution_count": null,
      "outputs": []
    },
    {
      "cell_type": "code",
      "source": [],
      "metadata": {
        "id": "6nfXtxaF2C22"
      },
      "execution_count": null,
      "outputs": []
    }
  ]
}