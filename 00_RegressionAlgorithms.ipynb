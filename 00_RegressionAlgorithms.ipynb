{
  "nbformat": 4,
  "nbformat_minor": 0,
  "metadata": {
    "colab": {
      "provenance": []
    },
    "kernelspec": {
      "name": "python3",
      "display_name": "Python 3"
    },
    "language_info": {
      "name": "python"
    }
  },
  "cells": [
    {
      "cell_type": "markdown",
      "source": [
        "#1. Linear Regression\n",
        "Linear Regression models the relationship between a dependent variable (y) and one or more independent variables (X) by fitting a linear equation:\n",
        "\n",
        "y = b0 + b1x1 + b2x2 + ... + e\n",
        "\n",
        "Objective: Minimize the sum of squared residuals (Ordinary Least Squares).\n",
        "\n",
        "Assumptions: Linearity, homoscedasticity, and independence of features.\n",
        "\n",
        "Use Case: Predicting house prices, sales forecasting.\n",
        "\n",
        "- - Evaluation Metrics:\n",
        "\n",
        "- - - MSE (Mean Squared Error): Lower = better.\n",
        "\n",
        "- - - R² Score: Closer to 1 = better fit."
      ],
      "metadata": {
        "id": "LmOqi9ghDuc1"
      }
    },
    {
      "cell_type": "code",
      "execution_count": null,
      "metadata": {
        "id": "S_fsAXVtDtrC"
      },
      "outputs": [],
      "source": [
        "# Setup\n",
        "import numpy as np\n",
        "import pandas as pd\n",
        "from sklearn.linear_model import LinearRegression\n",
        "from sklearn.model_selection import train_test_split\n",
        "from sklearn.metrics import mean_squared_error\n",
        "from sklearn.metrics import r2_score\n"
      ]
    },
    {
      "cell_type": "code",
      "source": [
        "# Load data (e.g., Boston Housing)\n",
        "from sklearn.datasets import fetch_california_housing\n",
        "data = fetch_california_housing()\n",
        "X, y = data.data, data.target\n",
        "df = pd.DataFrame(data.data, columns=data.feature_names)\n",
        "df['Target'] = data.target\n",
        "print(\"Dataset Head:\\n\", df.head())\n"
      ],
      "metadata": {
        "id": "tgIZxl-zEuBU"
      },
      "execution_count": null,
      "outputs": []
    },
    {
      "cell_type": "code",
      "source": [
        "# Split data\n",
        "X_train, X_test, y_train, y_test = train_test_split(X, y, test_size=0.2, random_state=42)\n",
        "\n"
      ],
      "metadata": {
        "id": "BC13M3siEx3Z"
      },
      "execution_count": null,
      "outputs": []
    },
    {
      "cell_type": "code",
      "source": [
        "# Train\n",
        "model = LinearRegression()\n",
        "model.fit(X_train, y_train)\n",
        "\n"
      ],
      "metadata": {
        "id": "TiDE0qmaEzTZ"
      },
      "execution_count": null,
      "outputs": []
    },
    {
      "cell_type": "code",
      "source": [
        "# Evaluate\n",
        "y_pred = model.predict(X_test)\n",
        "print(f\"MSE: {mean_squared_error(y_test, y_pred):.2f}\")\n",
        "print(f\"R² Score: {r2_score(y_test, y_pred):.2f}\")\n"
      ],
      "metadata": {
        "id": "6Mzm7muoE6yN"
      },
      "execution_count": null,
      "outputs": []
    },
    {
      "cell_type": "code",
      "source": [
        "custom_input = [X.mean(axis=0)]  # Using mean of each feature\n",
        "prediction = model.predict(custom_input)\n",
        "print(f\"\\nPrediction for {custom_input[0]}:\\nPredicted Value: {prediction[0]:.2f}\")"
      ],
      "metadata": {
        "id": "BYckJ3rmNozQ"
      },
      "execution_count": null,
      "outputs": []
    },
    {
      "cell_type": "markdown",
      "source": [
        "#2. Decision Tree Regression\n",
        "Theory\n",
        "- Non-parametric method that splits data into branches based on feature thresholds.\n",
        "\n",
        "- Objective: Minimize variance in leaf nodes (e.g., using MSE).\n",
        "\n",
        "- Pros: Handles non-linear data, no need for feature scaling.\n",
        "\n",
        "- Cons: Prone to overfitting (use pruning or ensemble methods)."
      ],
      "metadata": {
        "id": "N1Rt-fQbKcNC"
      }
    },
    {
      "cell_type": "code",
      "source": [
        "from sklearn.tree import DecisionTreeRegressor\n"
      ],
      "metadata": {
        "id": "dNtyRo7cKmCL"
      },
      "execution_count": null,
      "outputs": []
    },
    {
      "cell_type": "code",
      "source": [
        "# Train\n",
        "model = DecisionTreeRegressor(max_depth=3, random_state=42)\n",
        "model.fit(X_train, y_train)\n",
        "\n"
      ],
      "metadata": {
        "id": "qto57S0zKqSF"
      },
      "execution_count": null,
      "outputs": []
    },
    {
      "cell_type": "code",
      "source": [
        "# Evaluate\n",
        "y_pred = model.predict(X_test)\n",
        "print(f\"MSE: {mean_squared_error(y_test, y_pred):.2f}\")\n",
        "print(f\"R² Score: {r2_score(y_test, y_pred):.2f}\")\n"
      ],
      "metadata": {
        "id": "mv-29xJkKr7R"
      },
      "execution_count": null,
      "outputs": []
    },
    {
      "cell_type": "code",
      "source": [
        "# Predict for custom input\n",
        "prediction = model.predict(custom_input)\n",
        "print(f\"\\nPrediction: {prediction[0]:.2f}\")\n"
      ],
      "metadata": {
        "id": "UUu7QdJjN_-6"
      },
      "execution_count": null,
      "outputs": []
    },
    {
      "cell_type": "markdown",
      "source": [
        "#3. Random Forest Regression\n",
        "Theory\n",
        "- Ensemble of decision trees, averaging predictions to reduce overfitting.\n",
        "\n",
        "- Objective: Combine multiple trees (via bagging) to improve robustness.\n",
        "\n",
        "- Hyperparameters: n_estimators (number of trees), max_depth."
      ],
      "metadata": {
        "id": "nyZmkYyZKvu4"
      }
    },
    {
      "cell_type": "code",
      "source": [
        "from sklearn.ensemble import RandomForestRegressor\n",
        "\n"
      ],
      "metadata": {
        "id": "dtQJC-WVK3yl"
      },
      "execution_count": null,
      "outputs": []
    },
    {
      "cell_type": "code",
      "source": [
        "# Train\n",
        "model = RandomForestRegressor(n_estimators=100, random_state=42)\n",
        "model.fit(X_train, y_train)\n",
        "\n"
      ],
      "metadata": {
        "id": "oV-KabQ_K7Yo"
      },
      "execution_count": null,
      "outputs": []
    },
    {
      "cell_type": "code",
      "source": [
        "# Evaluate\n",
        "y_pred = model.predict(X_test)\n",
        "print(f\"MSE: {mean_squared_error(y_test, y_pred):.2f}\")\n",
        "print(f\"R² Score: {r2_score(y_test, y_pred):.2f}\")\n"
      ],
      "metadata": {
        "id": "UmS1mNpEK85n"
      },
      "execution_count": null,
      "outputs": []
    },
    {
      "cell_type": "markdown",
      "source": [
        "#4. Support Vector Regression (SVR)\n",
        "Theory\n",
        "- Kernel-based method that fits the best \"tube\" (ϵ-insensitive) around data.\n",
        "\n",
        "- Objective: Minimize deviations beyond a threshold (ϵ).\n",
        "\n",
        "- Kernels: RBF (non-linear), linear, or polynomial."
      ],
      "metadata": {
        "id": "btfuTPA9LdC7"
      }
    },
    {
      "cell_type": "code",
      "source": [
        "from sklearn.svm import SVR\n",
        "from sklearn.preprocessing import StandardScaler\n",
        "\n"
      ],
      "metadata": {
        "id": "Q7i6Ipf-Lnev"
      },
      "execution_count": null,
      "outputs": []
    },
    {
      "cell_type": "code",
      "source": [
        "# Scale features (critical for SVR)\n",
        "scaler = StandardScaler()\n",
        "X_train_scaled = scaler.fit_transform(X_train)\n",
        "X_test_scaled = scaler.transform(X_test)\n",
        "\n"
      ],
      "metadata": {
        "id": "yFulAKG_Lpac"
      },
      "execution_count": null,
      "outputs": []
    },
    {
      "cell_type": "code",
      "source": [
        "# Train\n",
        "model = SVR(kernel='rbf', C=1.0, epsilon=0.1)\n",
        "model.fit(X_train_scaled, y_train)\n",
        "\n"
      ],
      "metadata": {
        "id": "pzI7Kn6nLq3s"
      },
      "execution_count": null,
      "outputs": []
    },
    {
      "cell_type": "code",
      "source": [
        "# Evaluate\n",
        "y_pred = model.predict(X_test_scaled)\n",
        "print(f\"MSE: {mean_squared_error(y_test, y_pred):.2f}\")\n",
        "print(f\"R² Score: {r2_score(y_test, y_pred):.2f}\")\n"
      ],
      "metadata": {
        "id": "AOdxh8q-Lse3"
      },
      "execution_count": null,
      "outputs": []
    },
    {
      "cell_type": "markdown",
      "source": [
        "#5. Gradient Boosting (XGBoost)\n",
        "Theory\n",
        "- Boosting technique that sequentially corrects errors from previous trees.\n",
        "\n",
        "- Objective: Optimize loss function (e.g., MSE) using gradient descent.\n",
        "\n",
        "- Pros: High accuracy, handles missing values.\n",
        "\n",
        "Data Preprocessing: Always scale features for SVR"
      ],
      "metadata": {
        "id": "PrIxCz4_L7xE"
      }
    },
    {
      "cell_type": "code",
      "source": [
        "# !pip install xgboost\n",
        "import xgboost as xgb\n",
        "\n"
      ],
      "metadata": {
        "id": "TY23OZQ5MDEV"
      },
      "execution_count": null,
      "outputs": []
    },
    {
      "cell_type": "code",
      "source": [
        "# Train\n",
        "model = xgb.XGBRegressor(n_estimators=100, learning_rate=0.1, random_state=42)\n",
        "model.fit(X_train, y_train)\n",
        "\n"
      ],
      "metadata": {
        "id": "vJnWeuYUMFNg"
      },
      "execution_count": null,
      "outputs": []
    },
    {
      "cell_type": "code",
      "source": [
        "# Evaluate\n",
        "y_pred = model.predict(X_test)\n",
        "print(f\"MSE: {mean_squared_error(y_test, y_pred):.2f}\")\n",
        "print(f\"R² Score: {r2_score(y_test, y_pred):.2f}\")\n"
      ],
      "metadata": {
        "id": "zKSKANbjMGvG"
      },
      "execution_count": null,
      "outputs": []
    }
  ]
}